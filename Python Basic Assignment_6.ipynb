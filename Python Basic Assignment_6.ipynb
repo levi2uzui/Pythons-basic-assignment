{
 "cells": [
  {
   "cell_type": "code",
   "execution_count": 1,
   "id": "570d98fd",
   "metadata": {},
   "outputs": [],
   "source": [
    "#Assignment-6"
   ]
  },
  {
   "cell_type": "code",
   "execution_count": 2,
   "id": "89852976",
   "metadata": {},
   "outputs": [],
   "source": [
    "#1.What are escape characters, and how do you use them?\n",
    "# Escape characters represent characters in string values that would otherwise be difficult or impossible to type into code. we can use the backslash character to escape a single character or symbol\n",
    "#example: \\t, \\n"
   ]
  },
  {
   "cell_type": "code",
   "execution_count": 3,
   "id": "74a61b9b",
   "metadata": {},
   "outputs": [],
   "source": [
    "#2.What do the escape characters n and t stand for ?\n",
    "#ans2-n stands for newline and t stands for tab"
   ]
  },
  {
   "cell_type": "code",
   "execution_count": 4,
   "id": "d109d3f8",
   "metadata": {},
   "outputs": [],
   "source": [
    "#3.What is the way to include backslash character in a string?\n",
    "#ans3-The \\\\ escape character will represent the backslash character in a string"
   ]
  },
  {
   "cell_type": "code",
   "execution_count": 5,
   "id": "ebe9b2c6",
   "metadata": {},
   "outputs": [
    {
     "data": {
      "text/plain": [
       "\"Howl's Moving Castle\""
      ]
     },
     "execution_count": 5,
     "metadata": {},
     "output_type": "execute_result"
    }
   ],
   "source": [
    "#4.The string \"Howl's Moving Castle\" is a correct value. Why isn't the single quote character in the word Howl's not escaped a problem ?\n",
    "#ans4-\n",
    "\"Howl's Moving Castle\" "
   ]
  },
  {
   "cell_type": "code",
   "execution_count": 6,
   "id": "5b00ce9b",
   "metadata": {},
   "outputs": [
    {
     "ename": "SyntaxError",
     "evalue": "invalid syntax (Temp/ipykernel_21744/2057793136.py, line 1)",
     "output_type": "error",
     "traceback": [
      "\u001b[1;36m  File \u001b[1;32m\"C:\\Users\\rumma\\AppData\\Local\\Temp/ipykernel_21744/2057793136.py\"\u001b[1;36m, line \u001b[1;32m1\u001b[0m\n\u001b[1;33m    'Howl's Moving Castle'\u001b[0m\n\u001b[1;37m          ^\u001b[0m\n\u001b[1;31mSyntaxError\u001b[0m\u001b[1;31m:\u001b[0m invalid syntax\n"
     ]
    }
   ],
   "source": [
    "'Howl's Moving Castle'"
   ]
  },
  {
   "cell_type": "code",
   "execution_count": 8,
   "id": "7f5f8c57",
   "metadata": {},
   "outputs": [
    {
     "data": {
      "text/plain": [
       "\"Howl's Moving Castle\""
      ]
     },
     "execution_count": 8,
     "metadata": {},
     "output_type": "execute_result"
    }
   ],
   "source": [
    "'Howl\\'s Moving Castle' #we have to use \\ to use in single quotes"
   ]
  },
  {
   "cell_type": "code",
   "execution_count": 15,
   "id": "475c2214",
   "metadata": {},
   "outputs": [
    {
     "name": "stdout",
     "output_type": "stream",
     "text": [
      " Hello \n",
      " World\n"
     ]
    }
   ],
   "source": [
    "#5.How do you write a string of newlines if you don't want to use the n character?\n",
    "#ans5-\n",
    "a=''' Hello \n",
    " World'''\n",
    "print(a)"
   ]
  },
  {
   "cell_type": "code",
   "execution_count": 16,
   "id": "56a91076",
   "metadata": {},
   "outputs": [
    {
     "data": {
      "text/plain": [
       "'e'"
      ]
     },
     "execution_count": 16,
     "metadata": {},
     "output_type": "execute_result"
    }
   ],
   "source": [
    "#6.What are the values of the given expressions ?\n",
    "#ans6-\n",
    "'Hello, world!'[1]"
   ]
  },
  {
   "cell_type": "code",
   "execution_count": 17,
   "id": "d9d07d29",
   "metadata": {},
   "outputs": [
    {
     "data": {
      "text/plain": [
       "'Hello'"
      ]
     },
     "execution_count": 17,
     "metadata": {},
     "output_type": "execute_result"
    }
   ],
   "source": [
    "'Hello, world!'[0:5]"
   ]
  },
  {
   "cell_type": "code",
   "execution_count": 18,
   "id": "9e513f86",
   "metadata": {},
   "outputs": [
    {
     "data": {
      "text/plain": [
       "'Hello'"
      ]
     },
     "execution_count": 18,
     "metadata": {},
     "output_type": "execute_result"
    }
   ],
   "source": [
    "'Hello, world!'[:5]"
   ]
  },
  {
   "cell_type": "code",
   "execution_count": 19,
   "id": "1c1fc3fe",
   "metadata": {},
   "outputs": [
    {
     "data": {
      "text/plain": [
       "'lo, world!'"
      ]
     },
     "execution_count": 19,
     "metadata": {},
     "output_type": "execute_result"
    }
   ],
   "source": [
    "'Hello, world!'[3:]"
   ]
  },
  {
   "cell_type": "code",
   "execution_count": 20,
   "id": "eab88944",
   "metadata": {},
   "outputs": [
    {
     "data": {
      "text/plain": [
       "'HELLO'"
      ]
     },
     "execution_count": 20,
     "metadata": {},
     "output_type": "execute_result"
    }
   ],
   "source": [
    "#7.What are the values of the following expressions ?\n",
    "#ans7-\n",
    "'Hello'.upper()"
   ]
  },
  {
   "cell_type": "code",
   "execution_count": 23,
   "id": "30ca54bc",
   "metadata": {},
   "outputs": [
    {
     "data": {
      "text/plain": [
       "True"
      ]
     },
     "execution_count": 23,
     "metadata": {},
     "output_type": "execute_result"
    }
   ],
   "source": [
    "'Hello'.upper().isupper()"
   ]
  },
  {
   "cell_type": "code",
   "execution_count": 24,
   "id": "d030ec6f",
   "metadata": {},
   "outputs": [
    {
     "data": {
      "text/plain": [
       "'hello'"
      ]
     },
     "execution_count": 24,
     "metadata": {},
     "output_type": "execute_result"
    }
   ],
   "source": [
    "'Hello'.upper().lower()"
   ]
  },
  {
   "cell_type": "code",
   "execution_count": 25,
   "id": "3e641765",
   "metadata": {},
   "outputs": [
    {
     "data": {
      "text/plain": [
       "['Remember,', 'remember,', 'the', 'fifith', 'of', 'July.']"
      ]
     },
     "execution_count": 25,
     "metadata": {},
     "output_type": "execute_result"
    }
   ],
   "source": [
    "#8.What are the values of the following expressions ?\n",
    "#ans8-\n",
    "'Remember, remember, the fifith of July.'.split()"
   ]
  },
  {
   "cell_type": "code",
   "execution_count": 27,
   "id": "348b0d81",
   "metadata": {},
   "outputs": [
    {
     "data": {
      "text/plain": [
       "'There-can-only-one'"
      ]
     },
     "execution_count": 27,
     "metadata": {},
     "output_type": "execute_result"
    }
   ],
   "source": [
    "'-'.join('There can only one'.split())"
   ]
  },
  {
   "cell_type": "code",
   "execution_count": 9,
   "id": "9d8dfc56",
   "metadata": {},
   "outputs": [
    {
     "data": {
      "text/plain": [
       "'   string           '"
      ]
     },
     "execution_count": 9,
     "metadata": {},
     "output_type": "execute_result"
    }
   ],
   "source": [
    "#9.What are the methods for right-justifying, left-justifying and centering a string ?\n",
    "#ans9-\n",
    "str='   string      '\n",
    "str.ljust(20)"
   ]
  },
  {
   "cell_type": "code",
   "execution_count": 10,
   "id": "e2201dc9",
   "metadata": {},
   "outputs": [
    {
     "data": {
      "text/plain": [
       "'        string      '"
      ]
     },
     "execution_count": 10,
     "metadata": {},
     "output_type": "execute_result"
    }
   ],
   "source": [
    "str.rjust(20)"
   ]
  },
  {
   "cell_type": "code",
   "execution_count": 12,
   "id": "53cd7cd0",
   "metadata": {},
   "outputs": [
    {
     "data": {
      "text/plain": [
       "'   string      '"
      ]
     },
     "execution_count": 12,
     "metadata": {},
     "output_type": "execute_result"
    }
   ],
   "source": [
    "str.center(0)"
   ]
  },
  {
   "cell_type": "code",
   "execution_count": 13,
   "id": "3ac15ece",
   "metadata": {},
   "outputs": [
    {
     "data": {
      "text/plain": [
       "'  rumman'"
      ]
     },
     "execution_count": 13,
     "metadata": {},
     "output_type": "execute_result"
    }
   ],
   "source": [
    "#10.What is the best way to remove whitespace characters from the start or end ?\n",
    "#ans10- we can use rstrip and lstrip.\n",
    "str='  rumman  '\n",
    "str.rstrip()"
   ]
  },
  {
   "cell_type": "code",
   "execution_count": 14,
   "id": "7fade340",
   "metadata": {},
   "outputs": [
    {
     "data": {
      "text/plain": [
       "'rumman  '"
      ]
     },
     "execution_count": 14,
     "metadata": {},
     "output_type": "execute_result"
    }
   ],
   "source": [
    "str.lstrip()"
   ]
  },
  {
   "cell_type": "code",
   "execution_count": null,
   "id": "9bc6dc98",
   "metadata": {},
   "outputs": [],
   "source": []
  }
 ],
 "metadata": {
  "kernelspec": {
   "display_name": "Python 3 (ipykernel)",
   "language": "python",
   "name": "python3"
  },
  "language_info": {
   "codemirror_mode": {
    "name": "ipython",
    "version": 3
   },
   "file_extension": ".py",
   "mimetype": "text/x-python",
   "name": "python",
   "nbconvert_exporter": "python",
   "pygments_lexer": "ipython3",
   "version": "3.9.7"
  }
 },
 "nbformat": 4,
 "nbformat_minor": 5
}
