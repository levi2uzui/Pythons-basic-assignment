{
 "cells": [
  {
   "cell_type": "code",
   "execution_count": 1,
   "id": "e247fb42",
   "metadata": {},
   "outputs": [],
   "source": [
    "# Assignment 25 solutions"
   ]
  },
  {
   "cell_type": "code",
   "execution_count": 2,
   "id": "ce811ea4",
   "metadata": {},
   "outputs": [
    {
     "name": "stdout",
     "output_type": "stream",
     "text": [
      "[0, 1, 2, 3, 4, 5, 6, 7, 8, 9] <class 'list'>\n",
      "<generator object <genexpr> at 0x000002448FB3DD60> <class 'generator'>\n"
     ]
    }
   ],
   "source": [
    "#1) . What is the difference between enclosing a list comprehension in square brackets and parentheses?\n",
    "#ans1-\n",
    "l1 = [i for i in range(10)]\n",
    "print(l1, type(l1))\n",
    "l2 = (i for i in range(10))\n",
    "print(l2, type(l2))"
   ]
  },
  {
   "cell_type": "code",
   "execution_count": 3,
   "id": "70cde112",
   "metadata": {},
   "outputs": [],
   "source": [
    "#2) What is the relationship between generators and iterators?\n",
    "#ans2-\n",
    "#An iterator in Python serves as a holder for objects so that they can be iterated over; a generator facilitates \n",
    "#the creation of a custom iterator"
   ]
  },
  {
   "cell_type": "code",
   "execution_count": 4,
   "id": "2338446d",
   "metadata": {},
   "outputs": [
    {
     "data": {
      "text/plain": [
       "1"
      ]
     },
     "execution_count": 4,
     "metadata": {},
     "output_type": "execute_result"
    }
   ],
   "source": [
    "l=[1,2,3]\n",
    "i=iter(l)\n",
    "next(i)"
   ]
  },
  {
   "cell_type": "code",
   "execution_count": 5,
   "id": "5e55d9b6",
   "metadata": {},
   "outputs": [
    {
     "data": {
      "text/plain": [
       "2"
      ]
     },
     "execution_count": 5,
     "metadata": {},
     "output_type": "execute_result"
    }
   ],
   "source": [
    "next(i)"
   ]
  },
  {
   "cell_type": "code",
   "execution_count": 6,
   "id": "ebe98f89",
   "metadata": {},
   "outputs": [
    {
     "data": {
      "text/plain": [
       "3"
      ]
     },
     "execution_count": 6,
     "metadata": {},
     "output_type": "execute_result"
    }
   ],
   "source": [
    "next(i)"
   ]
  },
  {
   "cell_type": "code",
   "execution_count": 10,
   "id": "f29589b4",
   "metadata": {},
   "outputs": [],
   "source": [
    "def gen(a):\n",
    "    for i in a:\n",
    "        yield i\n",
    "l=[1,2,3]\n",
    "g=gen(l)"
   ]
  },
  {
   "cell_type": "code",
   "execution_count": 11,
   "id": "5208fd62",
   "metadata": {},
   "outputs": [
    {
     "data": {
      "text/plain": [
       "1"
      ]
     },
     "execution_count": 11,
     "metadata": {},
     "output_type": "execute_result"
    }
   ],
   "source": [
    "next(g)"
   ]
  },
  {
   "cell_type": "code",
   "execution_count": 12,
   "id": "05f9a949",
   "metadata": {},
   "outputs": [
    {
     "data": {
      "text/plain": [
       "2"
      ]
     },
     "execution_count": 12,
     "metadata": {},
     "output_type": "execute_result"
    }
   ],
   "source": [
    "next(g)"
   ]
  },
  {
   "cell_type": "code",
   "execution_count": 13,
   "id": "40baf3e4",
   "metadata": {},
   "outputs": [
    {
     "data": {
      "text/plain": [
       "3"
      ]
     },
     "execution_count": 13,
     "metadata": {},
     "output_type": "execute_result"
    }
   ],
   "source": [
    "next(g)"
   ]
  },
  {
   "cell_type": "code",
   "execution_count": 14,
   "id": "552fb452",
   "metadata": {},
   "outputs": [],
   "source": [
    "#3) What are the signs that a function is a generator function?\n",
    "#ans3- there would be a yield instead of return keyword"
   ]
  },
  {
   "cell_type": "code",
   "execution_count": 15,
   "id": "44fe4ffe",
   "metadata": {},
   "outputs": [],
   "source": [
    "#4) What is the purpose of a yield statement?\n",
    "#ans4-The yield statement suspends function’s execution and sends a value back to the caller, but retains enough state to \n",
    "#enable function to resume where it is left off. When resumed, the function continues execution immediately after the last \n",
    "#yield run. This allows its code to produce a series of values over time, rather than computing them at once and sending \n",
    "#them back like a list."
   ]
  },
  {
   "cell_type": "code",
   "execution_count": null,
   "id": "1da5314c",
   "metadata": {},
   "outputs": [],
   "source": [
    "#5) What is the relationship between map calls and list comprehensions? Make a comparison and contrast between the two ?\n",
    "#ans5-\n",
    "#The main differences between map calls and list comprehensiosn are:\n",
    "\n",
    "#List comprehension is more concise and easier to read as compared to map.\n",
    "#List comprehension allows filtering. In map, we have no such facility. For example, to print all odd numbers in range of 50, we can write [n for n in range(50) if n%2 != 0]. There is no alternate for it in map\n",
    "#List comprehension are used when a list of results is required as final output.but map only returns a map object. it needs to be explicitly coverted to desired datatype.\n",
    "#List comprehension is faster than map when we need to evaluate expressions that are too long or complicated to express\n",
    "#Map is faster in case of calling an already defined function on a set of values."
   ]
  }
 ],
 "metadata": {
  "kernelspec": {
   "display_name": "Python 3 (ipykernel)",
   "language": "python",
   "name": "python3"
  },
  "language_info": {
   "codemirror_mode": {
    "name": "ipython",
    "version": 3
   },
   "file_extension": ".py",
   "mimetype": "text/x-python",
   "name": "python",
   "nbconvert_exporter": "python",
   "pygments_lexer": "ipython3",
   "version": "3.9.7"
  }
 },
 "nbformat": 4,
 "nbformat_minor": 5
}
