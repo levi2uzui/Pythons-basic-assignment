{
 "cells": [
  {
   "cell_type": "code",
   "execution_count": 2,
   "id": "5013a628",
   "metadata": {},
   "outputs": [],
   "source": [
    "#Assignment 1 Solutions"
   ]
  },
  {
   "cell_type": "code",
   "execution_count": 4,
   "id": "ae0e8097",
   "metadata": {},
   "outputs": [],
   "source": [
    "#1. In the below elements which of them are values or an expression? eg:- values can be integer or string and expressions will be mathematical operators.\n",
    "# *,'hello', -87.8,-,/,+,6"
   ]
  },
  {
   "cell_type": "code",
   "execution_count": 5,
   "id": "7ec452bf",
   "metadata": {},
   "outputs": [],
   "source": [
    "# ans1: values are 'hello',-87.8,6 and expressions are '/',+,*,-\n"
   ]
  },
  {
   "cell_type": "code",
   "execution_count": 6,
   "id": "50fec785",
   "metadata": {},
   "outputs": [],
   "source": [
    "# 2. What is the difference between string and variable?"
   ]
  },
  {
   "cell_type": "code",
   "execution_count": 7,
   "id": "aff43818",
   "metadata": {},
   "outputs": [],
   "source": [
    "# ans2: A Variable is used to store of information, and a String is a type of information you would store in a Variable. A String is a group of characters or a single character usually enclosed in Double quotes \" \" or single quotes ' '"
   ]
  },
  {
   "cell_type": "code",
   "execution_count": 8,
   "id": "28d1364a",
   "metadata": {},
   "outputs": [],
   "source": [
    "#3.Describe three different Data Types ?"
   ]
  },
  {
   "cell_type": "code",
   "execution_count": 9,
   "id": "60dda78d",
   "metadata": {},
   "outputs": [],
   "source": [
    "#ans3: there are 3 different data types in python:\n",
    "       #int data type: We can use int data type to represent whole numbers (integral values),eg=1,23\n",
    "       #float data type: We can use float data type to represent floating point values (decimal values),eg=1.2,1.3\n",
    "       #complex data type: Complex number is represented by complex class. It is specified as (real part) + (imaginary part)j.eg,2+1j"
   ]
  },
  {
   "cell_type": "code",
   "execution_count": 10,
   "id": "7497a4cd",
   "metadata": {},
   "outputs": [],
   "source": [
    "#4. What is an expression made up of? What do all expressions do?"
   ]
  },
  {
   "cell_type": "code",
   "execution_count": 12,
   "id": "f863b55d",
   "metadata": {},
   "outputs": [],
   "source": [
    "#ans4: An expression is a combination of values, variables, operators, and calls to functions. Expressions need to be evaluated. If we ask Python to print an expression, the interpreter evaluates the expression and displays the result.\n",
    "# eg:2+3*9/3 is an expressions"
   ]
  },
  {
   "cell_type": "code",
   "execution_count": 13,
   "id": "81a9243f",
   "metadata": {},
   "outputs": [],
   "source": [
    "#5.This assignment statements, like spam = 10. What is the difference between an expression and a statement?"
   ]
  },
  {
   "cell_type": "code",
   "execution_count": 14,
   "id": "b512c5aa",
   "metadata": {},
   "outputs": [],
   "source": [
    "#ans5:An expression is a combination of values, variables, and operators.When we type an expression at the prompt, the interpreter evaluates it, which means that it finds the value of the expression.\n",
    "\n",
    "#eg: 4*5+20-40 is an example of a statement\n",
    "\n",
    "#A statement is a unit of code that has an effect, like creating a variable or displaying a value.When we type a statement, the interpreter executes it, which means that it does whatever the statement says. In general, statements don’t have values.\n",
    "\n",
    "#eg: variable declaration and assignment are statements because they do not return a value"
   ]
  },
  {
   "cell_type": "code",
   "execution_count": 16,
   "id": "cef5a1ed",
   "metadata": {},
   "outputs": [],
   "source": [
    "#6.After running the following code, what does the variable bacon contain?\n",
    "  #bacon=22\n",
    "  #bacon+1"
   ]
  },
  {
   "cell_type": "code",
   "execution_count": 17,
   "id": "953bec8c",
   "metadata": {},
   "outputs": [],
   "source": [
    "#ans6:bacon will return 22."
   ]
  },
  {
   "cell_type": "code",
   "execution_count": 18,
   "id": "0608713d",
   "metadata": {},
   "outputs": [],
   "source": [
    "bacon=22"
   ]
  },
  {
   "cell_type": "code",
   "execution_count": 19,
   "id": "fb09c0bb",
   "metadata": {},
   "outputs": [
    {
     "data": {
      "text/plain": [
       "23"
      ]
     },
     "execution_count": 19,
     "metadata": {},
     "output_type": "execute_result"
    }
   ],
   "source": [
    "bacon+1"
   ]
  },
  {
   "cell_type": "code",
   "execution_count": 20,
   "id": "9a64c59c",
   "metadata": {},
   "outputs": [
    {
     "name": "stdout",
     "output_type": "stream",
     "text": [
      "22\n"
     ]
    }
   ],
   "source": [
    "print(bacon)"
   ]
  },
  {
   "cell_type": "code",
   "execution_count": 21,
   "id": "8d0536e5",
   "metadata": {},
   "outputs": [],
   "source": [
    "#7.What should the values of the following two terms be?\n",
    "#'spam'+'spamspam'\n",
    "#'spam'*3"
   ]
  },
  {
   "cell_type": "code",
   "execution_count": 22,
   "id": "bbee304b",
   "metadata": {},
   "outputs": [],
   "source": [
    "#ans7:\n"
   ]
  },
  {
   "cell_type": "code",
   "execution_count": 23,
   "id": "5cbad24f",
   "metadata": {},
   "outputs": [
    {
     "data": {
      "text/plain": [
       "'spamspamspam'"
      ]
     },
     "execution_count": 23,
     "metadata": {},
     "output_type": "execute_result"
    }
   ],
   "source": [
    "'spam'+'spamspam'"
   ]
  },
  {
   "cell_type": "code",
   "execution_count": 24,
   "id": "4bc6eedb",
   "metadata": {},
   "outputs": [
    {
     "data": {
      "text/plain": [
       "'spamspamspam'"
      ]
     },
     "execution_count": 24,
     "metadata": {},
     "output_type": "execute_result"
    }
   ],
   "source": [
    "'spam'*3"
   ]
  },
  {
   "cell_type": "code",
   "execution_count": 25,
   "id": "e316855b",
   "metadata": {},
   "outputs": [],
   "source": [
    "#8. Why is eggs a valid variable name while 100 is invalid?"
   ]
  },
  {
   "cell_type": "code",
   "execution_count": 26,
   "id": "538b5694",
   "metadata": {},
   "outputs": [],
   "source": [
    "#ans8:Ans: As per python,Variable names cannot begin with a number. The python rules for naming a variable are :-\n",
    "\n",
    "#Variable name must start with a letter or the underscore character.\n",
    "#Variable name cannot start with a number.\n",
    "#Variable name can only contain alpha-numeric characters and underscores (A-z, 0-9, & _ ).\n",
    "#Variable names are case-sensitive (name, INEURON and ineuron are three different variables).\n",
    "#The reserved words(keywords) cannot be used naming the variable."
   ]
  },
  {
   "cell_type": "code",
   "execution_count": 27,
   "id": "09646c74",
   "metadata": {},
   "outputs": [],
   "source": [
    "#9.What three functions can be used to get the integer,floating-point number,or string version of a value?"
   ]
  },
  {
   "cell_type": "code",
   "execution_count": 28,
   "id": "82942765",
   "metadata": {},
   "outputs": [],
   "source": [
    "#ans9:The int(),float(),and str() functions will evaluate to the integer,floating-point number,string version of the value passed to them."
   ]
  },
  {
   "cell_type": "code",
   "execution_count": 30,
   "id": "a1fd19e4",
   "metadata": {},
   "outputs": [],
   "source": [
    "#10.Why does this expression cause an error? how can you fix it?\n",
    "#'I have eaten ' + 99 + 'burritos.'"
   ]
  },
  {
   "cell_type": "code",
   "execution_count": 31,
   "id": "d58a80c2",
   "metadata": {},
   "outputs": [],
   "source": [
    "#ans10: 99 is not  a string .\n"
   ]
  },
  {
   "cell_type": "code",
   "execution_count": 32,
   "id": "6ec06eeb",
   "metadata": {},
   "outputs": [
    {
     "ename": "TypeError",
     "evalue": "can only concatenate str (not \"int\") to str",
     "output_type": "error",
     "traceback": [
      "\u001b[1;31m---------------------------------------------------------------------------\u001b[0m",
      "\u001b[1;31mTypeError\u001b[0m                                 Traceback (most recent call last)",
      "\u001b[1;32m~\\AppData\\Local\\Temp/ipykernel_12840/1304403834.py\u001b[0m in \u001b[0;36m<module>\u001b[1;34m\u001b[0m\n\u001b[1;32m----> 1\u001b[1;33m \u001b[1;34m'I have eaten '\u001b[0m \u001b[1;33m+\u001b[0m \u001b[1;36m99\u001b[0m \u001b[1;33m+\u001b[0m \u001b[1;34m'burritos.'\u001b[0m\u001b[1;33m\u001b[0m\u001b[1;33m\u001b[0m\u001b[0m\n\u001b[0m",
      "\u001b[1;31mTypeError\u001b[0m: can only concatenate str (not \"int\") to str"
     ]
    }
   ],
   "source": [
    "'I have eaten ' + 99 + 'burritos.'"
   ]
  },
  {
   "cell_type": "code",
   "execution_count": 33,
   "id": "b0e27fbb",
   "metadata": {},
   "outputs": [],
   "source": [
    "#to fix this make 99 also a string by putting inverted commas"
   ]
  },
  {
   "cell_type": "code",
   "execution_count": 34,
   "id": "59e161a8",
   "metadata": {},
   "outputs": [
    {
     "data": {
      "text/plain": [
       "'I have eaten  99burritos.'"
      ]
     },
     "execution_count": 34,
     "metadata": {},
     "output_type": "execute_result"
    }
   ],
   "source": [
    "'I have eaten ' +' 99' + 'burritos.'"
   ]
  },
  {
   "cell_type": "code",
   "execution_count": null,
   "id": "f7eb7fda",
   "metadata": {},
   "outputs": [],
   "source": []
  }
 ],
 "metadata": {
  "kernelspec": {
   "display_name": "Python 3 (ipykernel)",
   "language": "python",
   "name": "python3"
  },
  "language_info": {
   "codemirror_mode": {
    "name": "ipython",
    "version": 3
   },
   "file_extension": ".py",
   "mimetype": "text/x-python",
   "name": "python",
   "nbconvert_exporter": "python",
   "pygments_lexer": "ipython3",
   "version": "3.9.7"
  }
 },
 "nbformat": 4,
 "nbformat_minor": 5
}
