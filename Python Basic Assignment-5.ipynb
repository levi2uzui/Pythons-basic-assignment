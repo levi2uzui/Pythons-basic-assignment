{
 "cells": [
  {
   "cell_type": "code",
   "execution_count": 1,
   "id": "b0def908",
   "metadata": {},
   "outputs": [],
   "source": [
    "# Assignment - 5"
   ]
  },
  {
   "cell_type": "code",
   "execution_count": 2,
   "id": "27d13d9b",
   "metadata": {},
   "outputs": [],
   "source": [
    "#1.What does an empty dictionary's code look like?\n",
    "#ans1-d={}"
   ]
  },
  {
   "cell_type": "code",
   "execution_count": 3,
   "id": "12455367",
   "metadata": {},
   "outputs": [
    {
     "data": {
      "text/plain": [
       "dict_values([42])"
      ]
     },
     "execution_count": 3,
     "metadata": {},
     "output_type": "execute_result"
    }
   ],
   "source": [
    "#2.what is the value of dictionary value with key 'foo' and the value 42 ?\n",
    "#ans2-\n",
    "dict={'foo':42}\n",
    "dict.values()"
   ]
  },
  {
   "cell_type": "code",
   "execution_count": 4,
   "id": "2f92356f",
   "metadata": {},
   "outputs": [],
   "source": [
    "#3.What is the most significant distinction between a dictionary and a list?\n",
    "#ans3-Ans: Dictionaries are represented by {} where as listed are represented by []"
   ]
  },
  {
   "cell_type": "code",
   "execution_count": 5,
   "id": "81e57641",
   "metadata": {},
   "outputs": [
    {
     "ename": "KeyError",
     "evalue": "'foo'",
     "output_type": "error",
     "traceback": [
      "\u001b[1;31m---------------------------------------------------------------------------\u001b[0m",
      "\u001b[1;31mKeyError\u001b[0m                                  Traceback (most recent call last)",
      "\u001b[1;32m~\\AppData\\Local\\Temp/ipykernel_3484/1533037276.py\u001b[0m in \u001b[0;36m<module>\u001b[1;34m\u001b[0m\n\u001b[0;32m      2\u001b[0m \u001b[1;31m#ans4-\u001b[0m\u001b[1;33m\u001b[0m\u001b[1;33m\u001b[0m\u001b[0m\n\u001b[0;32m      3\u001b[0m \u001b[0mspam\u001b[0m\u001b[1;33m=\u001b[0m\u001b[1;33m{\u001b[0m\u001b[1;34m'bar'\u001b[0m\u001b[1;33m:\u001b[0m\u001b[1;36m100\u001b[0m\u001b[1;33m}\u001b[0m\u001b[1;33m\u001b[0m\u001b[1;33m\u001b[0m\u001b[0m\n\u001b[1;32m----> 4\u001b[1;33m \u001b[0mspam\u001b[0m\u001b[1;33m[\u001b[0m\u001b[1;34m'foo'\u001b[0m\u001b[1;33m]\u001b[0m\u001b[1;33m\u001b[0m\u001b[1;33m\u001b[0m\u001b[0m\n\u001b[0m",
      "\u001b[1;31mKeyError\u001b[0m: 'foo'"
     ]
    }
   ],
   "source": [
    "#4.What happens if you try to access spam ['foo'] if spam is {'bar':100} ?\n",
    "#ans4-\n",
    "spam={'bar':100}\n",
    "spam['foo']"
   ]
  },
  {
   "cell_type": "code",
   "execution_count": 7,
   "id": "d84d18c5",
   "metadata": {},
   "outputs": [
    {
     "name": "stdout",
     "output_type": "stream",
     "text": [
      "true\n"
     ]
    },
    {
     "data": {
      "text/plain": [
       "True"
      ]
     },
     "execution_count": 7,
     "metadata": {},
     "output_type": "execute_result"
    }
   ],
   "source": [
    "#5.if a dictionary is stored in spam,what is the difference between the expressions 'cat' in spam and 'cat' in spam.keys() ?\n",
    "#ans5- there is no difference both will check  if cat is present in the keys\n",
    "spam={'cat':2}\n",
    "if 'cat' in spam:\n",
    "    print('true')\n",
    "'cat' in spam.keys()"
   ]
  },
  {
   "cell_type": "code",
   "execution_count": 8,
   "id": "b3127504",
   "metadata": {},
   "outputs": [
    {
     "name": "stdout",
     "output_type": "stream",
     "text": [
      "True\n"
     ]
    },
    {
     "data": {
      "text/plain": [
       "False"
      ]
     },
     "execution_count": 8,
     "metadata": {},
     "output_type": "execute_result"
    }
   ],
   "source": [
    "#6.if a dictionary is stored in spam,what is the difference between the expressions 'cat' in spam and 'cat' in spam.values() ?\n",
    "#ans6- in 'cat' in spam check the presence in keys while spam.values() check in the values.\n",
    "spam={'cat':2}\n",
    "if 'cat' in spam:\n",
    "    print('True')\n",
    "'cat' in spam.values()"
   ]
  },
  {
   "cell_type": "code",
   "execution_count": 9,
   "id": "af8ecc76",
   "metadata": {},
   "outputs": [],
   "source": [
    "#7.what is a shortcut for the following code ?\n",
    "#if 'color' not in spam:\n",
    "    #spam['color'] ='black'\n",
    "#ans7-spam.setdefault('color','black')"
   ]
  },
  {
   "cell_type": "code",
   "execution_count": 10,
   "id": "4dabb933",
   "metadata": {},
   "outputs": [],
   "source": [
    "#8.How do you 'pretty print' dictionary values using which modules and function ?\n",
    "#we can pretty print a dictionary using three functions\n",
    "\n",
    "#1-by using pprint() function of pprint module\n",
    "        #Note: pprint() function doesnot prettify nested dictionaries\n",
    "#2-by using dumps() method of json module\n",
    "#3-by using dumps() method of yaml module"
   ]
  },
  {
   "cell_type": "code",
   "execution_count": 14,
   "id": "fe13659b",
   "metadata": {},
   "outputs": [],
   "source": [
    "dict1=[{\n",
    "    'rumman':1,\n",
    "    \"ahmad\":2,\n",
    "    \"khan\":3\n",
    "}]"
   ]
  },
  {
   "cell_type": "code",
   "execution_count": 15,
   "id": "f894b90b",
   "metadata": {},
   "outputs": [
    {
     "name": "stdout",
     "output_type": "stream",
     "text": [
      "[{'rumman': 1, 'ahmad': 2, 'khan': 3}]\n"
     ]
    }
   ],
   "source": [
    "#using print function\n",
    "print(dict1)"
   ]
  },
  {
   "cell_type": "code",
   "execution_count": 16,
   "id": "23b17e6b",
   "metadata": {},
   "outputs": [
    {
     "name": "stdout",
     "output_type": "stream",
     "text": [
      "[{'ahmad': 2, 'khan': 3, 'rumman': 1}]\n"
     ]
    }
   ],
   "source": [
    "#using pprint function \n",
    "import pprint\n",
    "pprint.pprint(dict1)"
   ]
  },
  {
   "cell_type": "code",
   "execution_count": 19,
   "id": "3d5a584e",
   "metadata": {},
   "outputs": [
    {
     "name": "stdout",
     "output_type": "stream",
     "text": [
      "[\n",
      " {\n",
      "  \"rumman\": 1,\n",
      "  \"ahmad\": 2,\n",
      "  \"khan\": 3\n",
      " }\n",
      "]\n"
     ]
    }
   ],
   "source": [
    "#using json module\n",
    "import json\n",
    "dump = json.dumps(dict1,indent=1)\n",
    "print(dump)"
   ]
  },
  {
   "cell_type": "code",
   "execution_count": 21,
   "id": "ae581a2c",
   "metadata": {},
   "outputs": [
    {
     "name": "stdout",
     "output_type": "stream",
     "text": [
      "- ahmad: 2\n",
      "  khan: 3\n",
      "  rumman: 1\n",
      "\n"
     ]
    }
   ],
   "source": [
    "#using dump\n",
    "import yaml\n",
    "dump=yaml.dump(dict1)\n",
    "print(dump)"
   ]
  },
  {
   "cell_type": "code",
   "execution_count": null,
   "id": "bfde2601",
   "metadata": {},
   "outputs": [],
   "source": []
  }
 ],
 "metadata": {
  "kernelspec": {
   "display_name": "Python 3 (ipykernel)",
   "language": "python",
   "name": "python3"
  },
  "language_info": {
   "codemirror_mode": {
    "name": "ipython",
    "version": 3
   },
   "file_extension": ".py",
   "mimetype": "text/x-python",
   "name": "python",
   "nbconvert_exporter": "python",
   "pygments_lexer": "ipython3",
   "version": "3.9.7"
  }
 },
 "nbformat": 4,
 "nbformat_minor": 5
}
