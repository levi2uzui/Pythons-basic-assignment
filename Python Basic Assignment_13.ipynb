{
 "cells": [
  {
   "cell_type": "code",
   "execution_count": 1,
   "id": "2c650162",
   "metadata": {},
   "outputs": [],
   "source": [
    "#Assignment 13 Solutions"
   ]
  },
  {
   "cell_type": "code",
   "execution_count": 2,
   "id": "3ac97995",
   "metadata": {},
   "outputs": [],
   "source": [
    "#1. What advantages do Excel spreadsheets have over CSV spreadsheets?\n",
    "#ans1-\n",
    "#The Advantages of Excel over CSV are:\n",
    "\n",
    "#1-Excel (XLS and XLSX) file formats are better for storing and analysing complex data.\n",
    "#2-An Excel not only stores data but can also do operations on the data using macros, formulas etc\n",
    "#3-CSV files are plain-text files, Does not contain formatting, formulas, macros, etc. It is also known as flat files"
   ]
  },
  {
   "cell_type": "code",
   "execution_count": 6,
   "id": "e6d35935",
   "metadata": {},
   "outputs": [
    {
     "name": "stdout",
     "output_type": "stream",
     "text": [
      "['rumman ', 'this is first line']\n",
      "['ahmad', 'this is second line']\n",
      "['khan', 'this is third  line']\n"
     ]
    }
   ],
   "source": [
    "#2.What do you pass to csv.reader() and csv.writer() to create reader and writer objects?\n",
    "#ans2-\n",
    "import csv\n",
    "with open ('test.txt','r') as file:\n",
    "    csv_file=csv.reader(file,delimiter=',')\n",
    "    for i in csv_file:\n",
    "        print(i)"
   ]
  },
  {
   "cell_type": "code",
   "execution_count": 7,
   "id": "598d8d20",
   "metadata": {},
   "outputs": [],
   "source": [
    "#3. What modes do File objects for reader and writer objects need to be opened in?\n",
    "#ans3-For reader the file must be opened in read ('r') and write ('w') mode while for writer the file must be opened in write\n",
    "# ('w') mode "
   ]
  },
  {
   "cell_type": "code",
   "execution_count": 8,
   "id": "9bd19050",
   "metadata": {},
   "outputs": [],
   "source": [
    "#4. What method takes a list argument and writes it to a CSV file?\n",
    "#ans4- \n",
    "#csv.writer class provides two methods for writing to CSV. They are writerow() and writerows(). writerow() method writes a\n",
    "#single row at a time. Whereas writerows() method is used to write multiple rows at a time."
   ]
  },
  {
   "cell_type": "code",
   "execution_count": 12,
   "id": "f210c7b5",
   "metadata": {},
   "outputs": [],
   "source": [
    "import csv\n",
    "fields=['Name','Branch','Year','CGPA']\n",
    "rows=[\n",
    "    ['Rumman',\"COE\",2,9.0],\n",
    "    ['Ahmad','COE',2,9.1],\n",
    "    ['khan','COE',3,9.3]\n",
    "]\n",
    "with open('test.csv','w') as file:\n",
    "    csvwriter=csv.writer(file)\n",
    "    csvwriter.writerow(fields)\n",
    "    csvwriter.writerows(rows)"
   ]
  },
  {
   "cell_type": "code",
   "execution_count": 13,
   "id": "ffb40e82",
   "metadata": {},
   "outputs": [],
   "source": [
    "#5. What do the keyword arguments delimiter and line terminator do?\n",
    "#ans5-Lets take the example of a csv file:\n",
    "#First Name, Last Name, Age\n",
    "#Mano, Vishnu, 24\n",
    "#Vishnu, Vardhan, 21\n",
    "#Here ',' is Delimiter. We can use any Character as per our needs if required. Similarly Line Terminator comes at end of line\n",
    "#by default it is newline and can be changed accourding to Requirement."
   ]
  },
  {
   "cell_type": "code",
   "execution_count": 14,
   "id": "0609a6c7",
   "metadata": {},
   "outputs": [
    {
     "name": "stdout",
     "output_type": "stream",
     "text": [
      "{\n",
      "    \"Name\": \"Mano Vishnu\",\n",
      "    \"Qualification\": \"Bachelor of Technology\",\n",
      "    \"Stream\": \"Computer Science and Engineering\"\n",
      "}\n",
      "Type of my_details_json is <class 'str'>\n",
      "{'Name': 'Mano Vishnu', 'Qualification': 'Bachelor of Technology', 'Stream': 'Computer Science and Engineering'}\n",
      "Type of my_details is <class 'dict'>\n"
     ]
    }
   ],
   "source": [
    "#6. What function takes a string of JSON data and returns a Python data structure?\n",
    "#ans6- loads() method takes a string of JSON data and returns a Python data structure\n",
    "import json\n",
    "my_details_json ='''{\n",
    "    \"Name\": \"Mano Vishnu\",\n",
    "    \"Qualification\": \"Bachelor of Technology\",\n",
    "    \"Stream\": \"Computer Science and Engineering\"\n",
    "}'''\n",
    "print(my_details_json)\n",
    "print(f'Type of my_details_json is {type(my_details_json)}')\n",
    "my_details = json.loads(my_details_json)\n",
    "print(my_details)\n",
    "print(f'Type of my_details is {type(my_details)}')"
   ]
  },
  {
   "cell_type": "code",
   "execution_count": 15,
   "id": "8691a702",
   "metadata": {},
   "outputs": [
    {
     "name": "stdout",
     "output_type": "stream",
     "text": [
      "{'Name': 'Mano Vishnu', 'Stream': 'Computer Science and Engineering', 'Qualification': 'Bachelor of Technology'}\n",
      "Type of my_details is <class 'dict'>\n",
      "{\n",
      "    \"Name\": \"Mano Vishnu\",\n",
      "    \"Qualification\": \"Bachelor of Technology\",\n",
      "    \"Stream\": \"Computer Science and Engineering\"\n",
      "}\n",
      "Type of my_details_json is <class 'str'>\n"
     ]
    }
   ],
   "source": [
    "#7. What function takes a Python data structure and returns a string of JSON data?\n",
    "#ans7-dumps() method takes a python data structure and returns a string of JSON data\n",
    "import json\n",
    "my_details = {\n",
    "    'Name':'Mano Vishnu',\n",
    "    'Stream':'Computer Science and Engineering',\n",
    "    'Qualification':'Bachelor of Technology'\n",
    "}\n",
    "print(my_details)\n",
    "print(f'Type of my_details is {type(my_details)}')\n",
    "my_details_json = json.dumps(my_details, indent=4, sort_keys=True)\n",
    "print(my_details_json)\n",
    "print(f'Type of my_details_json is {type(my_details_json)}')"
   ]
  },
  {
   "cell_type": "code",
   "execution_count": null,
   "id": "71d8e4c9",
   "metadata": {},
   "outputs": [],
   "source": []
  }
 ],
 "metadata": {
  "kernelspec": {
   "display_name": "Python 3 (ipykernel)",
   "language": "python",
   "name": "python3"
  },
  "language_info": {
   "codemirror_mode": {
    "name": "ipython",
    "version": 3
   },
   "file_extension": ".py",
   "mimetype": "text/x-python",
   "name": "python",
   "nbconvert_exporter": "python",
   "pygments_lexer": "ipython3",
   "version": "3.9.7"
  }
 },
 "nbformat": 4,
 "nbformat_minor": 5
}
