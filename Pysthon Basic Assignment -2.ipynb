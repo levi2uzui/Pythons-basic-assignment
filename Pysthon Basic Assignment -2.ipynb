{
 "cells": [
  {
   "cell_type": "code",
   "execution_count": 2,
   "id": "d54d5f9a",
   "metadata": {},
   "outputs": [],
   "source": [
    "#Assignment 2 Solutions (Python basic assignments)"
   ]
  },
  {
   "cell_type": "code",
   "execution_count": 3,
   "id": "c404f829",
   "metadata": {},
   "outputs": [],
   "source": [
    "#1.What are the two values of the boolean data types? how do you write them ?"
   ]
  },
  {
   "cell_type": "code",
   "execution_count": 4,
   "id": "4b90339a",
   "metadata": {},
   "outputs": [],
   "source": [
    "#ans1-The two values of boolean are True and False.\n",
    "#we write T and F capital and rest in lower case"
   ]
  },
  {
   "cell_type": "code",
   "execution_count": 5,
   "id": "27f4eed9",
   "metadata": {},
   "outputs": [
    {
     "name": "stdout",
     "output_type": "stream",
     "text": [
      "True <class 'bool'>\n",
      "False <class 'bool'>\n"
     ]
    }
   ],
   "source": [
    "a=True\n",
    "b=False\n",
    "print(a,type(a))\n",
    "print(b,type(b))"
   ]
  },
  {
   "cell_type": "code",
   "execution_count": 6,
   "id": "8debc935",
   "metadata": {},
   "outputs": [],
   "source": [
    "#2. What are the three different types of Boolean operators?"
   ]
  },
  {
   "cell_type": "code",
   "execution_count": 7,
   "id": "69e3d265",
   "metadata": {},
   "outputs": [],
   "source": [
    "#ans2-There are 3 different types of Boolean operators(or,and,not)\n"
   ]
  },
  {
   "cell_type": "code",
   "execution_count": 9,
   "id": "f22e8d34",
   "metadata": {},
   "outputs": [
    {
     "name": "stdout",
     "output_type": "stream",
     "text": [
      "True\n",
      "True\n",
      "False\n"
     ]
    }
   ],
   "source": [
    "a=100\n",
    "b=50\n",
    "print(a>50 and b<100)\n",
    "print(a>100 or b<100)\n",
    "print(not(a==100))"
   ]
  },
  {
   "cell_type": "code",
   "execution_count": 10,
   "id": "55914bda",
   "metadata": {},
   "outputs": [],
   "source": [
    "#3. Make a list of each Boolean operator's truth tables (i.e. every possible combination of Boolean values for the operator and what it evaluate) ?"
   ]
  },
  {
   "cell_type": "code",
   "execution_count": 11,
   "id": "e2bf4699",
   "metadata": {},
   "outputs": [],
   "source": [
    "#ans3-The Truth tables for the boolean tables are as follows:"
   ]
  },
  {
   "cell_type": "code",
   "execution_count": 13,
   "id": "922063e5",
   "metadata": {},
   "outputs": [
    {
     "name": "stdout",
     "output_type": "stream",
     "text": [
      "True\n",
      "False\n",
      "False\n",
      "False\n"
     ]
    }
   ],
   "source": [
    "#And operator\n",
    "print(True and True)\n",
    "print(True and False)\n",
    "print(False and False)\n",
    "print(False and True)"
   ]
  },
  {
   "cell_type": "code",
   "execution_count": 14,
   "id": "95bc7f2a",
   "metadata": {},
   "outputs": [
    {
     "name": "stdout",
     "output_type": "stream",
     "text": [
      "True\n",
      "True\n",
      "False\n",
      "True\n"
     ]
    }
   ],
   "source": [
    "#OR operator\n",
    "print(True or True)\n",
    "print(True or False)\n",
    "print(False or False)\n",
    "print(False or True)"
   ]
  },
  {
   "cell_type": "code",
   "execution_count": 15,
   "id": "78a083d2",
   "metadata": {},
   "outputs": [
    {
     "name": "stdout",
     "output_type": "stream",
     "text": [
      "False\n",
      "True\n"
     ]
    }
   ],
   "source": [
    "#Not operator\n",
    "print(not True)\n",
    "print(not False)"
   ]
  },
  {
   "cell_type": "code",
   "execution_count": 16,
   "id": "8e969287",
   "metadata": {},
   "outputs": [],
   "source": [
    "#4. What are the values of the following expressions ?\n",
    "#(5 > 4) and (3 == 5)\n",
    "#not (5 > 4)\n",
    "#(5 > 4) or (3 == 5)\n",
    "#not ((5 > 4) or (3 == 5))\n",
    "#(True and True) and (True == False)\n",
    "#(not False) or (not True)"
   ]
  },
  {
   "cell_type": "code",
   "execution_count": 17,
   "id": "e8f15cd7",
   "metadata": {},
   "outputs": [
    {
     "name": "stdout",
     "output_type": "stream",
     "text": [
      "False\n",
      "False\n",
      "True\n",
      "False\n",
      "False\n",
      "True\n"
     ]
    }
   ],
   "source": [
    "print((5 > 4) and (3 == 5))\n",
    "print(not (5 > 4))\n",
    "print((5 > 4) or (3 == 5))\n",
    "print(not ((5 > 4) or (3 == 5)))\n",
    "print((True and True) and (True == False))\n",
    "print((not False) or (not True))"
   ]
  },
  {
   "cell_type": "code",
   "execution_count": 18,
   "id": "84819587",
   "metadata": {},
   "outputs": [],
   "source": [
    "#5.What are the six comparison operators?"
   ]
  },
  {
   "cell_type": "code",
   "execution_count": 19,
   "id": "b9fe74db",
   "metadata": {},
   "outputs": [],
   "source": [
    "#ans5-The six comparision operators are:\n",
    "# <,>,==,>=,<=,!="
   ]
  },
  {
   "cell_type": "code",
   "execution_count": 20,
   "id": "9ec11c36",
   "metadata": {},
   "outputs": [],
   "source": [
    "#6. How do you tell the difference between the equal to and assignment operators?Describe a condition and when you would use one ?"
   ]
  },
  {
   "cell_type": "code",
   "execution_count": 7,
   "id": "5b5493bb",
   "metadata": {},
   "outputs": [
    {
     "name": "stdout",
     "output_type": "stream",
     "text": [
      "yes\n"
     ]
    }
   ],
   "source": [
    "#ans6-The equal operator(==) is used for comparision and equal (=) is used for assigning the values.\n",
    "#(assign the value)\n",
    "a=10 \n",
    "if a==10:      #comparision \n",
    "    print(\"yes\")"
   ]
  },
  {
   "cell_type": "code",
   "execution_count": 8,
   "id": "6e71d54d",
   "metadata": {},
   "outputs": [],
   "source": [
    "#7. Identify the three blocks in this code:\n",
    "#spam = 0\n",
    "#if spam == 10:\n",
    "#print('eggs')\n",
    "#if spam > 5:\n",
    "#print('bacon')\n",
    "#else:\n",
    "#print('ham')\n",
    "#print('spam')\n",
    "#print('spam')"
   ]
  },
  {
   "cell_type": "code",
   "execution_count": 10,
   "id": "f6ef2528",
   "metadata": {},
   "outputs": [
    {
     "name": "stdout",
     "output_type": "stream",
     "text": [
      "ham\n",
      "spam\n",
      "spam\n"
     ]
    }
   ],
   "source": [
    "#ans7-\n",
    "spam=0\n",
    "if spam ==10 :\n",
    "    print('eggs') #Block1\n",
    "if spam > 5:\n",
    "    print(bacon)  #Block2\n",
    "else:\n",
    "    print('ham')  #Block3\n",
    "print('spam')\n",
    "print('spam')"
   ]
  },
  {
   "cell_type": "code",
   "execution_count": 11,
   "id": "3aba97a0",
   "metadata": {},
   "outputs": [],
   "source": [
    "#8. Write code that prints Hello if 1 is stored in spam, prints Howdy if 2 is stored in spam, and prints Greetings! if anything else is stored in spam"
   ]
  },
  {
   "cell_type": "code",
   "execution_count": 17,
   "id": "eff4ee88",
   "metadata": {},
   "outputs": [
    {
     "name": "stdout",
     "output_type": "stream",
     "text": [
      "Hello\n",
      "Howdy\n",
      "Greeting!\n"
     ]
    }
   ],
   "source": [
    "#ans8-\n",
    "def spamf(spam):\n",
    "    if spam==1:\n",
    "        print('Hello')\n",
    "    elif spam ==2:\n",
    "        print('Howdy')\n",
    "    else:\n",
    "        print('Greeting!')\n",
    "spamf(1)\n",
    "spamf(2)\n",
    "spamf(3)"
   ]
  },
  {
   "cell_type": "code",
   "execution_count": 18,
   "id": "b8d571c3",
   "metadata": {},
   "outputs": [],
   "source": [
    "#9.If your programme is stuck in an endless loop, what keys you’ll press?"
   ]
  },
  {
   "cell_type": "code",
   "execution_count": 19,
   "id": "e1ae9b57",
   "metadata": {},
   "outputs": [],
   "source": [
    "#ans9- Press Ctrl-c to stop a program stuck in an infinite loop."
   ]
  },
  {
   "cell_type": "code",
   "execution_count": 24,
   "id": "06bdf751",
   "metadata": {},
   "outputs": [
    {
     "name": "stdout",
     "output_type": "stream",
     "text": [
      "1\n",
      "2\n",
      "3\n"
     ]
    }
   ],
   "source": [
    "#10. How can you tell the difference between break and continue?\n",
    "#ans10- Break will come out of the loop if condition is true. and else will work and moved to start if condition is false.\n",
    "#break statement\n",
    "for i in range(1,10):\n",
    "    if i%3==0:\n",
    "        print(i)\n",
    "        break\n",
    "    else:\n",
    "        print(i)"
   ]
  },
  {
   "cell_type": "code",
   "execution_count": 34,
   "id": "374657df",
   "metadata": {},
   "outputs": [
    {
     "name": "stdout",
     "output_type": "stream",
     "text": [
      "1\n",
      "2\n",
      "4\n",
      "5\n",
      "6\n",
      "7\n",
      "8\n",
      "9\n"
     ]
    }
   ],
   "source": [
    "#continue statement\n",
    "for i in range(1,10):\n",
    "    if i==3:\n",
    "        continue\n",
    "    print(i)    "
   ]
  },
  {
   "cell_type": "code",
   "execution_count": 35,
   "id": "66579ceb",
   "metadata": {},
   "outputs": [],
   "source": [
    "#11. In a for loop, what is the difference between range(10), range(0, 10), and range(0, 10, 1)?"
   ]
  },
  {
   "cell_type": "code",
   "execution_count": 39,
   "id": "f4c382e6",
   "metadata": {},
   "outputs": [
    {
     "name": "stdout",
     "output_type": "stream",
     "text": [
      "0 1 2 3 4 5 6 7 8 9 "
     ]
    }
   ],
   "source": [
    "for i in range(10):\n",
    "    print(i,end=' ') #it contanis values from 0 to 9 "
   ]
  },
  {
   "cell_type": "code",
   "execution_count": 41,
   "id": "f0de1d7d",
   "metadata": {},
   "outputs": [
    {
     "name": "stdout",
     "output_type": "stream",
     "text": [
      "0 1 2 3 4 5 6 7 8 9 "
     ]
    }
   ],
   "source": [
    "for i in range(0,10):\n",
    "    print(i,end=' ') #it also contains 0 to 9 but condition is it should start from 0. (initial,final-1)"
   ]
  },
  {
   "cell_type": "code",
   "execution_count": 42,
   "id": "00c2e6d7",
   "metadata": {},
   "outputs": [
    {
     "name": "stdout",
     "output_type": "stream",
     "text": [
      "0 1 2 3 4 5 6 7 8 9 "
     ]
    }
   ],
   "source": [
    "for i in range(0,10,1):\n",
    "    print(i,end=' ')  #it starts from o goes till 9 by jumping every 1 digit (initail,final-1,jump)"
   ]
  },
  {
   "cell_type": "code",
   "execution_count": 43,
   "id": "eee5478c",
   "metadata": {},
   "outputs": [],
   "source": [
    "#12. Write a short program that prints the numbers 1 to 10 using a for loop. Then write an equivalent program that prints the numbers 1 to 10 using a while loop "
   ]
  },
  {
   "cell_type": "code",
   "execution_count": 45,
   "id": "7dd1f4cc",
   "metadata": {},
   "outputs": [
    {
     "name": "stdout",
     "output_type": "stream",
     "text": [
      "1 2 3 4 5 6 7 8 9 10 "
     ]
    }
   ],
   "source": [
    "#ans12-\n",
    "for i in range(1,11):\n",
    "    print(i,end=\" \")"
   ]
  },
  {
   "cell_type": "code",
   "execution_count": 47,
   "id": "78e51d58",
   "metadata": {},
   "outputs": [
    {
     "name": "stdout",
     "output_type": "stream",
     "text": [
      "1 2 3 4 5 6 7 8 9 10 "
     ]
    }
   ],
   "source": [
    "i=1\n",
    "while i<11:\n",
    "    print(i,end=\" \")\n",
    "    i=i+1"
   ]
  },
  {
   "cell_type": "code",
   "execution_count": null,
   "id": "740695bb",
   "metadata": {},
   "outputs": [],
   "source": [
    "#13. If you had a function named bacon() inside a module named spam, how would you call it after importing spam ?\n",
    "#ans13- This function can be called with spam.bacon()"
   ]
  }
 ],
 "metadata": {
  "kernelspec": {
   "display_name": "Python 3 (ipykernel)",
   "language": "python",
   "name": "python3"
  },
  "language_info": {
   "codemirror_mode": {
    "name": "ipython",
    "version": 3
   },
   "file_extension": ".py",
   "mimetype": "text/x-python",
   "name": "python",
   "nbconvert_exporter": "python",
   "pygments_lexer": "ipython3",
   "version": "3.9.7"
  }
 },
 "nbformat": 4,
 "nbformat_minor": 5
}
