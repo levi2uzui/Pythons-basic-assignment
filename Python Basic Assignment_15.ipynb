{
 "cells": [
  {
   "cell_type": "code",
   "execution_count": 1,
   "id": "4afd1169",
   "metadata": {},
   "outputs": [],
   "source": [
    "#Assignment 15 Solutions"
   ]
  },
  {
   "cell_type": "code",
   "execution_count": 4,
   "id": "7f6ac4d2",
   "metadata": {},
   "outputs": [
    {
     "name": "stdout",
     "output_type": "stream",
     "text": [
      "3600 seconds in an hour\n"
     ]
    }
   ],
   "source": [
    "#1.How many seconds are in an hour? Use the interactive interpreter as a calculator and multiply the number of seconds \n",
    "#in a minute (60) by the number of minutes in an hour (also 60).\n",
    "#ans1-\n",
    "print(60*60,\"seconds in an hour\")"
   ]
  },
  {
   "cell_type": "code",
   "execution_count": 7,
   "id": "8abbe19a",
   "metadata": {},
   "outputs": [
    {
     "name": "stdout",
     "output_type": "stream",
     "text": [
      "3600 seconds in an hour\n"
     ]
    }
   ],
   "source": [
    "#2. Assign the result from the previous task (seconds in an hour) to a variable called seconds_per_hour.\n",
    "#ans2-\n",
    "seconds_per_hour=60*60\n",
    "print(seconds_per_hour,'seconds per hour')"
   ]
  },
  {
   "cell_type": "code",
   "execution_count": 11,
   "id": "aa4b3d9d",
   "metadata": {},
   "outputs": [
    {
     "name": "stdout",
     "output_type": "stream",
     "text": [
      "86400 seconds per day\n"
     ]
    }
   ],
   "source": [
    "#3. How many seconds do you think there are in a day? Make use of the variables seconds per hour and minutes per hour.\n",
    "#ans3-\n",
    "minutes_per_hour=60\n",
    "print(seconds_per_hour*24,'seconds per day')"
   ]
  },
  {
   "cell_type": "code",
   "execution_count": 12,
   "id": "a12bfb9d",
   "metadata": {},
   "outputs": [
    {
     "name": "stdout",
     "output_type": "stream",
     "text": [
      "86400 seconds per day\n"
     ]
    }
   ],
   "source": [
    "#4. Calculate seconds per day again, but this time save the result in a variable called seconds_per_day\n",
    "#ans4-\n",
    "seconds_per_day=86400\n",
    "print(seconds_per_day,'seconds per day')"
   ]
  },
  {
   "cell_type": "code",
   "execution_count": 13,
   "id": "df47a718",
   "metadata": {},
   "outputs": [
    {
     "name": "stdout",
     "output_type": "stream",
     "text": [
      "24.0\n"
     ]
    }
   ],
   "source": [
    "#5. Divide seconds_per_day by seconds_per_hour. Use floating-point (/) division.\n",
    "#ans5-\n",
    "print(seconds_per_day/seconds_per_hour)"
   ]
  },
  {
   "cell_type": "code",
   "execution_count": 16,
   "id": "c5402821",
   "metadata": {},
   "outputs": [
    {
     "name": "stdout",
     "output_type": "stream",
     "text": [
      "24 <<yes this value agree with the floating value from the previous value\n"
     ]
    }
   ],
   "source": [
    "#6. Divide seconds_per_day by seconds_per_hour, using integer (//) division. Did this number agree with the floating-point value\n",
    "#from the previous question, aside from the final .0?\n",
    "#ans6-\n",
    "print(seconds_per_day//seconds_per_hour,'<<yes this value agree with the floating value from the previous value') "
   ]
  },
  {
   "cell_type": "code",
   "execution_count": 22,
   "id": "d318c189",
   "metadata": {},
   "outputs": [
    {
     "name": "stdout",
     "output_type": "stream",
     "text": [
      "2\n",
      "3\n",
      "5\n",
      "7\n",
      "11\n"
     ]
    }
   ],
   "source": [
    "#7. Write a generator, genPrimes, that returns the sequence of prime numbers on successive calls to its next() \n",
    "#method: 2, 3, 5, 7, 11, ...\n",
    "#ans7-\n",
    "def genprimes():\n",
    "    n=0\n",
    "    while True:\n",
    "        if n==2 or n==3:\n",
    "            yield n\n",
    "        elif ((n-1)%6 == 0 or (n+1)%6 == 0) and n !=1:\n",
    "            yield n\n",
    "        n=n+1\n",
    "output=genprimes()\n",
    "for ele in range(5):\n",
    "    print(next(output))\n",
    "   \n",
    "            "
   ]
  },
  {
   "cell_type": "code",
   "execution_count": null,
   "id": "9c96793d",
   "metadata": {},
   "outputs": [],
   "source": []
  }
 ],
 "metadata": {
  "kernelspec": {
   "display_name": "Python 3 (ipykernel)",
   "language": "python",
   "name": "python3"
  },
  "language_info": {
   "codemirror_mode": {
    "name": "ipython",
    "version": 3
   },
   "file_extension": ".py",
   "mimetype": "text/x-python",
   "name": "python",
   "nbconvert_exporter": "python",
   "pygments_lexer": "ipython3",
   "version": "3.9.7"
  }
 },
 "nbformat": 4,
 "nbformat_minor": 5
}
