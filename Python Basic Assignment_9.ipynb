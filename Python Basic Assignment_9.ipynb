{
 "cells": [
  {
   "cell_type": "code",
   "execution_count": 1,
   "id": "7ca47c04",
   "metadata": {},
   "outputs": [],
   "source": [
    "#Assignment 9 Solutions"
   ]
  },
  {
   "cell_type": "code",
   "execution_count": 2,
   "id": "8d1aadfb",
   "metadata": {},
   "outputs": [],
   "source": [
    "#1.To what does a relative path refer ?\n",
    "#ans1-The relative path is the path to some file with respect to your current working directory (PWD).\n",
    "#For example: if Absolute path to a file called stuff.txt is: C:/users/admin/docs/stuff.txt If my PWD is C:/users/admin/ , then the relative path to stuff.txt would be: docs/stuff.txt"
   ]
  },
  {
   "cell_type": "code",
   "execution_count": 3,
   "id": "b5e39653",
   "metadata": {},
   "outputs": [],
   "source": [
    "#2.Where does an absolute path start with your Operating System ?\n",
    "#ans2- In Linux based systems the absolute path starts with /. Where as in Windows based systems absolute path starts with C:"
   ]
  },
  {
   "cell_type": "code",
   "execution_count": 7,
   "id": "414af867",
   "metadata": {},
   "outputs": [
    {
     "data": {
      "text/plain": [
       "'C:\\\\Users\\\\rumma'"
      ]
     },
     "execution_count": 7,
     "metadata": {},
     "output_type": "execute_result"
    }
   ],
   "source": [
    "#3.What does the functions os.getcwd() and os.chdir() do ?\n",
    "#ans3-\n",
    "import os\n",
    "os.getcwd()        #it is used to show where the directory is present"
   ]
  },
  {
   "cell_type": "code",
   "execution_count": 13,
   "id": "b25ec5df",
   "metadata": {},
   "outputs": [],
   "source": [
    "path=r'C:\\\\Users\\\\rumma'      \n",
    "os.chdir(path)                   #it is used to transfer the current directory to specified path"
   ]
  },
  {
   "cell_type": "code",
   "execution_count": 15,
   "id": "42b06ac7",
   "metadata": {},
   "outputs": [],
   "source": [
    "#4.What are . and .. folders ?\n",
    "#ans4-.represents the current directory where as .. represents the parent directory of the current directory\n",
    "#eg=if absolute path is 'C:\\\\Users\\\\rumma'\n",
    "# then . represents 'C:\\\\Users\\\\rumma'\n",
    "# then .. represents 'C:\\\\Users'"
   ]
  },
  {
   "cell_type": "code",
   "execution_count": 17,
   "id": "16926bc1",
   "metadata": {},
   "outputs": [],
   "source": [
    "#5.In C:\\bacon\\eggs\\spam.txt which part is the dir name and which part is the base name ?\n",
    "#ans5- dir name is  C:\\bacon\\eggs\\spam.txt\n",
    "      #base name is spam.txt"
   ]
  },
  {
   "cell_type": "code",
   "execution_count": 19,
   "id": "633f08e4",
   "metadata": {},
   "outputs": [
    {
     "name": "stdout",
     "output_type": "stream",
     "text": [
      "C:\\bacon\\eggs\n",
      "spam.txt\n"
     ]
    }
   ],
   "source": [
    "import os\n",
    "path=r'C:\\bacon\\eggs\\spam.txt'\n",
    "print(os.path.dirname(path))\n",
    "print(os.path.basename(path))"
   ]
  },
  {
   "cell_type": "code",
   "execution_count": 20,
   "id": "2bd44a92",
   "metadata": {},
   "outputs": [],
   "source": [
    "#6.What are the three mode arguments that can be passed to the open() function ?\n",
    "#ans6-read mode\n",
    "     #write mode\n",
    "    #read and write mode"
   ]
  },
  {
   "cell_type": "code",
   "execution_count": 23,
   "id": "6df19665",
   "metadata": {},
   "outputs": [
    {
     "data": {
      "text/plain": [
       "10"
      ]
     },
     "execution_count": 23,
     "metadata": {},
     "output_type": "execute_result"
    }
   ],
   "source": [
    "#7.What happens if an existing file is opened in write mode ?\n",
    "#ans7- Then we can overwrite in write mode \n",
    "file=open('test.txt','w')\n",
    "file.write('this is me')    #takes space 10 "
   ]
  },
  {
   "cell_type": "code",
   "execution_count": 24,
   "id": "9eea9f48",
   "metadata": {},
   "outputs": [],
   "source": [
    "#8.How do you tell the difference between read() and readlines() ?\n",
    "#ans8- read()  it will read the whole file\n",
    "#readlines it will give you a list of lines present in the list .\n",
    "#eg-"
   ]
  },
  {
   "cell_type": "code",
   "execution_count": 33,
   "id": "8004bd16",
   "metadata": {},
   "outputs": [],
   "source": [
    "file=open('test.txt','r')"
   ]
  },
  {
   "cell_type": "code",
   "execution_count": 34,
   "id": "5f771bad",
   "metadata": {},
   "outputs": [
    {
     "data": {
      "text/plain": [
       "'this is first line\\nthis is second line\\nthis is third  line\\n'"
      ]
     },
     "execution_count": 34,
     "metadata": {},
     "output_type": "execute_result"
    }
   ],
   "source": [
    "file.read()  "
   ]
  },
  {
   "cell_type": "code",
   "execution_count": 37,
   "id": "70340f37",
   "metadata": {},
   "outputs": [
    {
     "data": {
      "text/plain": [
       "['this is first line\\n', 'this is second line\\n', 'this is third  line\\n']"
      ]
     },
     "execution_count": 37,
     "metadata": {},
     "output_type": "execute_result"
    }
   ],
   "source": [
    "file.readlines()"
   ]
  },
  {
   "cell_type": "code",
   "execution_count": null,
   "id": "5ca71ec3",
   "metadata": {},
   "outputs": [],
   "source": []
  },
  {
   "cell_type": "code",
   "execution_count": null,
   "id": "5f657179",
   "metadata": {},
   "outputs": [],
   "source": []
  }
 ],
 "metadata": {
  "kernelspec": {
   "display_name": "Python 3 (ipykernel)",
   "language": "python",
   "name": "python3"
  },
  "language_info": {
   "codemirror_mode": {
    "name": "ipython",
    "version": 3
   },
   "file_extension": ".py",
   "mimetype": "text/x-python",
   "name": "python",
   "nbconvert_exporter": "python",
   "pygments_lexer": "ipython3",
   "version": "3.9.7"
  }
 },
 "nbformat": 4,
 "nbformat_minor": 5
}
