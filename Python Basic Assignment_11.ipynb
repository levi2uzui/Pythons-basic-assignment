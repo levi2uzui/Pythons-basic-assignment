{
 "cells": [
  {
   "cell_type": "code",
   "execution_count": 1,
   "id": "05e78134",
   "metadata": {},
   "outputs": [],
   "source": [
    "#Assignment 11"
   ]
  },
  {
   "cell_type": "code",
   "execution_count": 4,
   "id": "436d522b",
   "metadata": {},
   "outputs": [
    {
     "ename": "AssertionError",
     "evalue": "variable spam should not be a -ve integer",
     "output_type": "error",
     "traceback": [
      "\u001b[1;31m---------------------------------------------------------------------------\u001b[0m",
      "\u001b[1;31mAssertionError\u001b[0m                            Traceback (most recent call last)",
      "\u001b[1;32m~\\AppData\\Local\\Temp/ipykernel_3284/1602466265.py\u001b[0m in \u001b[0;36m<module>\u001b[1;34m\u001b[0m\n\u001b[0;32m      2\u001b[0m \u001b[1;31m#ans1-\u001b[0m\u001b[1;33m\u001b[0m\u001b[1;33m\u001b[0m\u001b[0m\n\u001b[0;32m      3\u001b[0m \u001b[0mspam\u001b[0m\u001b[1;33m=\u001b[0m\u001b[1;33m-\u001b[0m\u001b[1;36m22\u001b[0m\u001b[1;33m\u001b[0m\u001b[1;33m\u001b[0m\u001b[0m\n\u001b[1;32m----> 4\u001b[1;33m \u001b[1;32massert\u001b[0m \u001b[0mspam\u001b[0m\u001b[1;33m>=\u001b[0m\u001b[1;36m0\u001b[0m \u001b[1;33m,\u001b[0m \u001b[1;34m'variable spam should not be a -ve integer'\u001b[0m\u001b[1;33m\u001b[0m\u001b[1;33m\u001b[0m\u001b[0m\n\u001b[0m",
      "\u001b[1;31mAssertionError\u001b[0m: variable spam should not be a -ve integer"
     ]
    }
   ],
   "source": [
    "#1. Create an assert statement that throws an AssertionError if the variable spam is a negative integer.\n",
    "#ans1-\n",
    "spam=-22\n",
    "assert spam>=0 , 'variable spam should not be a -ve integer'"
   ]
  },
  {
   "cell_type": "code",
   "execution_count": 5,
   "id": "44072479",
   "metadata": {},
   "outputs": [],
   "source": [
    "#2. Write an assert statement that triggers an AssertionError if the variables eggs and bacon contain strings that are the same as each other, even if their cases are different (that is, 'hello' and 'hello' are considered the same, and 'goodbye' and 'GOODbye' are also considered the same)."
   ]
  },
  {
   "cell_type": "code",
   "execution_count": 19,
   "id": "9003c593",
   "metadata": {},
   "outputs": [],
   "source": [
    "def val(egg,bacon):\n",
    "    egg=egg.upper()\n",
    "    bacon=bacon.upper()\n",
    "    assert not(egg==bacon),'bacon and eggs should not be same '"
   ]
  },
  {
   "cell_type": "code",
   "execution_count": 20,
   "id": "3ee777dd",
   "metadata": {},
   "outputs": [
    {
     "ename": "AssertionError",
     "evalue": "bacon and eggs should not be same ",
     "output_type": "error",
     "traceback": [
      "\u001b[1;31m---------------------------------------------------------------------------\u001b[0m",
      "\u001b[1;31mAssertionError\u001b[0m                            Traceback (most recent call last)",
      "\u001b[1;32m~\\AppData\\Local\\Temp/ipykernel_3284/226402495.py\u001b[0m in \u001b[0;36m<module>\u001b[1;34m\u001b[0m\n\u001b[1;32m----> 1\u001b[1;33m \u001b[0mval\u001b[0m\u001b[1;33m(\u001b[0m\u001b[1;34m'hello'\u001b[0m\u001b[1;33m,\u001b[0m\u001b[1;34m'HELLO'\u001b[0m\u001b[1;33m)\u001b[0m\u001b[1;33m\u001b[0m\u001b[1;33m\u001b[0m\u001b[0m\n\u001b[0m",
      "\u001b[1;32m~\\AppData\\Local\\Temp/ipykernel_3284/1189476923.py\u001b[0m in \u001b[0;36mval\u001b[1;34m(egg, bacon)\u001b[0m\n\u001b[0;32m      2\u001b[0m     \u001b[0megg\u001b[0m\u001b[1;33m=\u001b[0m\u001b[0megg\u001b[0m\u001b[1;33m.\u001b[0m\u001b[0mupper\u001b[0m\u001b[1;33m(\u001b[0m\u001b[1;33m)\u001b[0m\u001b[1;33m\u001b[0m\u001b[1;33m\u001b[0m\u001b[0m\n\u001b[0;32m      3\u001b[0m     \u001b[0mbacon\u001b[0m\u001b[1;33m=\u001b[0m\u001b[0mbacon\u001b[0m\u001b[1;33m.\u001b[0m\u001b[0mupper\u001b[0m\u001b[1;33m(\u001b[0m\u001b[1;33m)\u001b[0m\u001b[1;33m\u001b[0m\u001b[1;33m\u001b[0m\u001b[0m\n\u001b[1;32m----> 4\u001b[1;33m     \u001b[1;32massert\u001b[0m \u001b[1;32mnot\u001b[0m\u001b[1;33m(\u001b[0m\u001b[0megg\u001b[0m\u001b[1;33m==\u001b[0m\u001b[0mbacon\u001b[0m\u001b[1;33m)\u001b[0m\u001b[1;33m,\u001b[0m\u001b[1;34m'bacon and eggs should not be same '\u001b[0m\u001b[1;33m\u001b[0m\u001b[1;33m\u001b[0m\u001b[0m\n\u001b[0m",
      "\u001b[1;31mAssertionError\u001b[0m: bacon and eggs should not be same "
     ]
    }
   ],
   "source": [
    "val('hello','HELLO')"
   ]
  },
  {
   "cell_type": "code",
   "execution_count": 23,
   "id": "0d8db53c",
   "metadata": {},
   "outputs": [
    {
     "ename": "AssertionError",
     "evalue": "it will show Assertion error everytime",
     "output_type": "error",
     "traceback": [
      "\u001b[1;31m---------------------------------------------------------------------------\u001b[0m",
      "\u001b[1;31mAssertionError\u001b[0m                            Traceback (most recent call last)",
      "\u001b[1;32m~\\AppData\\Local\\Temp/ipykernel_3284/3961914788.py\u001b[0m in \u001b[0;36m<module>\u001b[1;34m\u001b[0m\n\u001b[0;32m      1\u001b[0m \u001b[1;31m#3. Create an assert statement that throws an AssertionError every time.\u001b[0m\u001b[1;33m\u001b[0m\u001b[1;33m\u001b[0m\u001b[0m\n\u001b[0;32m      2\u001b[0m \u001b[1;31m#ans3-\u001b[0m\u001b[1;33m\u001b[0m\u001b[1;33m\u001b[0m\u001b[0m\n\u001b[1;32m----> 3\u001b[1;33m \u001b[1;32massert\u001b[0m \u001b[1;32mFalse\u001b[0m\u001b[1;33m,\u001b[0m\u001b[1;34m\"it will show Assertion error everytime\"\u001b[0m\u001b[1;33m\u001b[0m\u001b[1;33m\u001b[0m\u001b[0m\n\u001b[0m",
      "\u001b[1;31mAssertionError\u001b[0m: it will show Assertion error everytime"
     ]
    }
   ],
   "source": [
    "#3. Create an assert statement that throws an AssertionError every time.\n",
    "#ans3- \n",
    "assert False,\"it will show Assertion error everytime\""
   ]
  },
  {
   "cell_type": "code",
   "execution_count": 24,
   "id": "4d7ed3fb",
   "metadata": {},
   "outputs": [],
   "source": [
    "#4. What are the two lines that must be present in your software in order to call logging.debug()?\n",
    "#ans4-\n",
    "import logging\n",
    "logging.basicConfig(filename = 'application_log.txt',level=logging.DEBUG, format=' %(asctime)s - %(levelname)s - %(message)s')"
   ]
  },
  {
   "cell_type": "code",
   "execution_count": 25,
   "id": "67ebfab0",
   "metadata": {},
   "outputs": [],
   "source": [
    "#5. What are the two lines that your program must have in order to have logging.debug() send a logging message to a file named programLog.txt?"
   ]
  },
  {
   "cell_type": "code",
   "execution_count": 26,
   "id": "de0b953c",
   "metadata": {},
   "outputs": [],
   "source": [
    "#ans5-\n",
    "import logging\n",
    "logging.basicConfig(filename = 'application_log.txt',level=logging.DEBUG, format=' %(asctime)s - %(levelname)s - %(message)s')\n",
    "logging.debug(\"Data Inserted Successfully\")\n",
    "logging.debug('Connection Closed Successfully')"
   ]
  },
  {
   "cell_type": "code",
   "execution_count": 27,
   "id": "9caebf71",
   "metadata": {},
   "outputs": [
    {
     "name": "stdout",
     "output_type": "stream",
     "text": [
      " 2022-03-15 22:07:29,823 - DEBUG - Data Inserted Successfully\n",
      "\n",
      " 2022-03-15 22:07:29,824 - DEBUG - Connection Closed Successfully\n",
      "\n"
     ]
    }
   ],
   "source": [
    "file = open(\"./application_log.txt\",\"r\")\n",
    "for record in file.readlines():\n",
    "    print(record)"
   ]
  },
  {
   "cell_type": "code",
   "execution_count": 28,
   "id": "23e47e77",
   "metadata": {},
   "outputs": [],
   "source": [
    "#6. What are the five levels of logging?\n",
    "#ans6-The Five levels of Logging provided by python's logging module are CRITICAL(50), ERROR(40), WARNING(30), INFO(20, DEBUG(10), NOTSET(0)"
   ]
  },
  {
   "cell_type": "code",
   "execution_count": 29,
   "id": "11aa6525",
   "metadata": {},
   "outputs": [],
   "source": [
    "#7. What line of code would you add to your software to disable all logging messages?\n",
    "#ans7-\n",
    "logging.disable = True"
   ]
  },
  {
   "cell_type": "code",
   "execution_count": 30,
   "id": "723cbf44",
   "metadata": {},
   "outputs": [],
   "source": [
    "#8.Why is using logging messages better than using print() to display the same message?\n",
    "#ans8- Post devlopment of your code, you can disable logging messages without removing the logging function, whereas you need to manually remove print() statements, which is tedious activity. and also print is used when you want to display any particular message or help whereas logging is used to record all events like error, info, debug messages, timestamps."
   ]
  },
  {
   "cell_type": "code",
   "execution_count": 31,
   "id": "bb816766",
   "metadata": {},
   "outputs": [],
   "source": [
    "#9.What are the differences between the Step Over, Step In, and Step Out buttons in the debugger?\n",
    "#ans9-\n",
    "#The Differences between Step Over, Step In, Step Out buttons in debugger are:\n",
    "\n",
    "#Step in - Step In button will cause the debugger to execute the next line of code and then pause again.\n",
    "#Step Over - Step Over button will execute the next line of code, similar to the Step In button. However, if the next line of code is a function call, the Step Over button will “step over” the code in the function. The function’s code will be executed at full speed, and the debugger will pause as soon as the function call returns.\n",
    "#Step out - Step Out button will cause the debugger to execute lines of code at full speed until it returns from the current function."
   ]
  },
  {
   "cell_type": "code",
   "execution_count": 32,
   "id": "38f9eaa0",
   "metadata": {},
   "outputs": [],
   "source": [
    "#10.After you click Continue, when will the debugger stop ?\n",
    "#ans10-Ans: This will cause the program to continue running normally, without pausing for debugging untill it terminates or reaches a breakpoint."
   ]
  },
  {
   "cell_type": "code",
   "execution_count": null,
   "id": "ab7c32b8",
   "metadata": {},
   "outputs": [],
   "source": [
    "#11. What is the concept of a breakpoint?\n",
    "#ans11- Breakpoint is a setting on a line of code that causes the debugger to pause when the program execution reaches the line"
   ]
  }
 ],
 "metadata": {
  "kernelspec": {
   "display_name": "Python 3 (ipykernel)",
   "language": "python",
   "name": "python3"
  },
  "language_info": {
   "codemirror_mode": {
    "name": "ipython",
    "version": 3
   },
   "file_extension": ".py",
   "mimetype": "text/x-python",
   "name": "python",
   "nbconvert_exporter": "python",
   "pygments_lexer": "ipython3",
   "version": "3.9.7"
  }
 },
 "nbformat": 4,
 "nbformat_minor": 5
}
