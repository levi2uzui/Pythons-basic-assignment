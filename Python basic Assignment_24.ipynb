{
 "cells": [
  {
   "cell_type": "code",
   "execution_count": 1,
   "id": "2d3c7fea",
   "metadata": {},
   "outputs": [],
   "source": [
    "#Assignment 24 solutions"
   ]
  },
  {
   "cell_type": "code",
   "execution_count": 4,
   "id": "f78ccd28",
   "metadata": {},
   "outputs": [],
   "source": [
    "#1. What is the relationship between def statements and lambda expressions ?\n",
    "#ans1-in both we pass argument whenever we call they return the values"
   ]
  },
  {
   "cell_type": "code",
   "execution_count": 5,
   "id": "89422e2c",
   "metadata": {},
   "outputs": [],
   "source": [
    "#2. What is the benefit of lambda?\n",
    "#ans2-Moderate to small functions can be created in a single line"
   ]
  },
  {
   "cell_type": "code",
   "execution_count": 6,
   "id": "d20da254",
   "metadata": {},
   "outputs": [],
   "source": [
    "#3. Compare and contrast map, filter, and reduce.\n",
    "#\n",
    "#map(): The map() function is a type of higher-order. This function takes another function as a parameter along with a sequence\n",
    "#of iterables and returns an output after applying the function to each iterable present in the sequence.\n",
    "#filter(): The filter() function is used to create an output list consisting of values for which the function returns true.\n",
    "#reduce(): The reduce() function, as the name describes, applies a given function to the iterables and returns a single value"
   ]
  },
  {
   "cell_type": "code",
   "execution_count": 7,
   "id": "a4285739",
   "metadata": {},
   "outputs": [],
   "source": [
    "#4. What are function annotations, and how are they used?\n",
    "#ans4-\n",
    "#Function annotations provide a way of associating various parts of a function with arbitrary pythoncexpressions at compile time.\n",
    "#Annotations of simple parameters def func(x: expression, y: expression = 20):\n",
    "#Whereas the annotations for excess parameters are as − def func (**args: expression, **kwargs: expression):"
   ]
  },
  {
   "cell_type": "code",
   "execution_count": 8,
   "id": "e370d27a",
   "metadata": {},
   "outputs": [],
   "source": [
    "#5. What are recursive functions, and how are they used?\n",
    "#ans5- recursive functions are those which call itself during execution.They are used as iteration."
   ]
  },
  {
   "cell_type": "code",
   "execution_count": 9,
   "id": "888f0630",
   "metadata": {},
   "outputs": [],
   "source": [
    "#6. What are some general design guidelines for coding functions?\n",
    "#ans6-\n",
    "#Always use a docstring to explain the functionality of the function\n",
    "#avoid using or limited use of global variables\n",
    "#Proper Identation to increase the code readability\n",
    "#Avoid using digits while choosing a variable name"
   ]
  },
  {
   "cell_type": "code",
   "execution_count": null,
   "id": "7b37cabe",
   "metadata": {},
   "outputs": [],
   "source": [
    "#7. Name three or more ways that functions can communicate results to a caller.\n",
    "#ans7-\n",
    "#print,return,yield,"
   ]
  }
 ],
 "metadata": {
  "kernelspec": {
   "display_name": "Python 3 (ipykernel)",
   "language": "python",
   "name": "python3"
  },
  "language_info": {
   "codemirror_mode": {
    "name": "ipython",
    "version": 3
   },
   "file_extension": ".py",
   "mimetype": "text/x-python",
   "name": "python",
   "nbconvert_exporter": "python",
   "pygments_lexer": "ipython3",
   "version": "3.9.7"
  }
 },
 "nbformat": 4,
 "nbformat_minor": 5
}
